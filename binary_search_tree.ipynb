{
 "cells": [
  {
   "cell_type": "markdown",
   "metadata": {},
   "source": [
    "## Implement binary tree using Python"
   ]
  },
  {
   "cell_type": "code",
   "execution_count": 1,
   "metadata": {},
   "outputs": [],
   "source": [
    "class TreeNode:\n",
    "    def __init__(self, key):\n",
    "        self.key = key\n",
    "        self.left = None\n",
    "        self.right = None"
   ]
  },
  {
   "cell_type": "code",
   "execution_count": 2,
   "metadata": {},
   "outputs": [],
   "source": [
    "node0 = TreeNode(3)\n",
    "node1 = TreeNode(4)\n",
    "node2 = TreeNode(5)"
   ]
  },
  {
   "cell_type": "code",
   "execution_count": 3,
   "metadata": {},
   "outputs": [],
   "source": [
    "node0.left = node1\n",
    "node0.right = node2"
   ]
  },
  {
   "cell_type": "markdown",
   "metadata": {},
   "source": [
    "'tree' refers to the root node"
   ]
  },
  {
   "cell_type": "code",
   "execution_count": 4,
   "metadata": {},
   "outputs": [],
   "source": [
    "tree = node0"
   ]
  },
  {
   "cell_type": "code",
   "execution_count": 5,
   "metadata": {},
   "outputs": [
    {
     "data": {
      "text/plain": [
       "3"
      ]
     },
     "execution_count": 5,
     "metadata": {},
     "output_type": "execute_result"
    }
   ],
   "source": [
    "tree.key"
   ]
  },
  {
   "cell_type": "code",
   "execution_count": 6,
   "metadata": {},
   "outputs": [
    {
     "data": {
      "text/plain": [
       "4"
      ]
     },
     "execution_count": 6,
     "metadata": {},
     "output_type": "execute_result"
    }
   ],
   "source": [
    "tree.left.key"
   ]
  },
  {
   "cell_type": "code",
   "execution_count": 7,
   "metadata": {},
   "outputs": [
    {
     "data": {
      "text/plain": [
       "5"
      ]
     },
     "execution_count": 7,
     "metadata": {},
     "output_type": "execute_result"
    }
   ],
   "source": [
    "tree.right.key"
   ]
  },
  {
   "cell_type": "code",
   "execution_count": 8,
   "metadata": {},
   "outputs": [],
   "source": [
    "node8 = TreeNode(8)\n",
    "node6 = TreeNode(6)\n",
    "node7 = TreeNode(7)\n",
    "node7.left = node6\n",
    "node7.right = node8\n",
    "\n",
    "node4 = TreeNode(4)\n",
    "node3 = TreeNode(3)\n",
    "node3.right = node4\n",
    "\n",
    "node5 = TreeNode(5)\n",
    "node5.left = node3\n",
    "node5.right = node7\n",
    "\n",
    "node1 = TreeNode(1)\n",
    "node3_l = TreeNode(3)\n",
    "node3_l.left = node1\n",
    "\n",
    "node2 = TreeNode(2)\n",
    "node2.left = node3_l\n",
    "node2.right = node5\n",
    "\n",
    "tree1 = node2"
   ]
  },
  {
   "cell_type": "code",
   "execution_count": 9,
   "metadata": {},
   "outputs": [],
   "source": [
    "# build a tuple structure (left_sub_tree, key, right_sub_tree)\n",
    "tree_tuple = ((1, 3, None), 2, ((None, 3, 4), 5, (6, 7, 8)))"
   ]
  },
  {
   "cell_type": "markdown",
   "metadata": {},
   "source": [
    "<img src=\"binary_tree_ex1.png\" alt=\"Alternative text\" width=\"500\" height=\"400\" />"
   ]
  },
  {
   "cell_type": "code",
   "execution_count": 10,
   "metadata": {},
   "outputs": [],
   "source": [
    "def parse_tuple(data):\n",
    "    if isinstance(data, tuple) and len(data) == 3:\n",
    "        node = TreeNode(data[1])\n",
    "        node.left = parse_tuple(data[0])\n",
    "        node.right = parse_tuple(data[2])\n",
    "    elif data is None:\n",
    "        node = None\n",
    "    else:\n",
    "        node = TreeNode(data)\n",
    "    return node"
   ]
  },
  {
   "cell_type": "code",
   "execution_count": 11,
   "metadata": {},
   "outputs": [
    {
     "data": {
      "text/plain": [
       "<__main__.TreeNode at 0x7fca080f9340>"
      ]
     },
     "execution_count": 11,
     "metadata": {},
     "output_type": "execute_result"
    }
   ],
   "source": [
    "tree2 = parse_tuple(tree_tuple)\n",
    "tree2"
   ]
  },
  {
   "cell_type": "code",
   "execution_count": 12,
   "metadata": {},
   "outputs": [
    {
     "data": {
      "text/plain": [
       "2"
      ]
     },
     "execution_count": 12,
     "metadata": {},
     "output_type": "execute_result"
    }
   ],
   "source": [
    "tree2.key"
   ]
  },
  {
   "cell_type": "code",
   "execution_count": 13,
   "metadata": {},
   "outputs": [
    {
     "data": {
      "text/plain": [
       "(3, 5)"
      ]
     },
     "execution_count": 13,
     "metadata": {},
     "output_type": "execute_result"
    }
   ],
   "source": [
    "tree2.left.key, tree2.right.key"
   ]
  },
  {
   "cell_type": "code",
   "execution_count": 14,
   "metadata": {},
   "outputs": [
    {
     "data": {
      "text/plain": [
       "(1, None, 3, 7)"
      ]
     },
     "execution_count": 14,
     "metadata": {},
     "output_type": "execute_result"
    }
   ],
   "source": [
    "tree2.left.left.key, tree2.left.right, tree2.right.left.key, tree2.right.right.key"
   ]
  },
  {
   "cell_type": "code",
   "execution_count": 15,
   "metadata": {},
   "outputs": [
    {
     "data": {
      "text/plain": [
       "(None, 4, 6, 8)"
      ]
     },
     "execution_count": 15,
     "metadata": {},
     "output_type": "execute_result"
    }
   ],
   "source": [
    "tree2.right.left.left, tree2.right.left.right.key, tree2.right.right.left.key, tree2.right.right.right.key"
   ]
  },
  {
   "cell_type": "code",
   "execution_count": 16,
   "metadata": {},
   "outputs": [],
   "source": [
    "def tree_to_tuple(node):\n",
    "    if node != None:\n",
    "        left = None\n",
    "        key = node.key\n",
    "        right = None\n",
    "        if node.left != None:\n",
    "            if (node.left.left == None) and (node.left.right == None):\n",
    "                left = node.left.key\n",
    "            else:\n",
    "                left = tree_to_tuple(node.left)\n",
    "        if node.right != None:\n",
    "            if (node.right.left == None) and (node.right.right == None):\n",
    "                right = node.right.key\n",
    "            else:\n",
    "                right = tree_to_tuple(node.right)\n",
    "    return (left, key, right)"
   ]
  },
  {
   "cell_type": "code",
   "execution_count": 17,
   "metadata": {},
   "outputs": [
    {
     "data": {
      "text/plain": [
       "((1, 3, None), 2, ((None, 3, 4), 5, (6, 7, 8)))"
      ]
     },
     "execution_count": 17,
     "metadata": {},
     "output_type": "execute_result"
    }
   ],
   "source": [
    "tuple1 = tree_to_tuple(tree2)\n",
    "tuple1"
   ]
  },
  {
   "cell_type": "code",
   "execution_count": 18,
   "metadata": {},
   "outputs": [],
   "source": [
    "def display_keys(node, space = '\\t', level = 0):\n",
    "    # If node is empty\n",
    "    if node is None:\n",
    "        print(space * level + 'None')\n",
    "        return\n",
    "    # If node is a leaf\n",
    "    if node.left is None and node.right is None:\n",
    "        print(space * level + str(node.key))\n",
    "        return\n",
    "    # If node has children\n",
    "    display_keys(node.right, space, level + 1)\n",
    "    print(space * level + str(node.key))\n",
    "    display_keys(node.left, space, level + 1)"
   ]
  },
  {
   "cell_type": "code",
   "execution_count": 19,
   "metadata": {},
   "outputs": [
    {
     "name": "stdout",
     "output_type": "stream",
     "text": [
      "\t\t\t8\n",
      "\t\t7\n",
      "\t\t\t6\n",
      "\t5\n",
      "\t\t\t4\n",
      "\t\t3\n",
      "\t\t\tNone\n",
      "2\n",
      "\t\tNone\n",
      "\t3\n",
      "\t\t1\n"
     ]
    }
   ],
   "source": [
    "display_keys(tree2)"
   ]
  },
  {
   "cell_type": "markdown",
   "metadata": {},
   "source": [
    "### Inorder traversal\n",
    "1. Traverse the left subtree recursively inorder.\n",
    "2. Traverse the current node.\n",
    "3. Traverse the right subtree recursively inorder."
   ]
  },
  {
   "cell_type": "code",
   "execution_count": 20,
   "metadata": {},
   "outputs": [],
   "source": [
    "def traverse_in_order(node):\n",
    "    if node is None:\n",
    "        return []\n",
    "    return traverse_in_order(node.left) + [node.key] + traverse_in_order(node.right)"
   ]
  },
  {
   "cell_type": "code",
   "execution_count": 21,
   "metadata": {},
   "outputs": [
    {
     "data": {
      "text/plain": [
       "[1, 3, 2, 3, 4, 5, 6, 7, 8]"
      ]
     },
     "execution_count": 21,
     "metadata": {},
     "output_type": "execute_result"
    }
   ],
   "source": [
    "traverse_in_order(tree2)"
   ]
  },
  {
   "cell_type": "markdown",
   "metadata": {},
   "source": [
    "### Preorder traversal\n",
    "1. Traverse the current node.\n",
    "2. Traverse the left subtree recursively preorder.\n",
    "3. Traverse the right subtree recursively preorder."
   ]
  },
  {
   "cell_type": "code",
   "execution_count": 22,
   "metadata": {},
   "outputs": [],
   "source": [
    "def traverse_pre_order(node):\n",
    "    if node is None:\n",
    "        return []\n",
    "    return [node.key] + traverse_pre_order(node.left) + traverse_pre_order(node.right)"
   ]
  },
  {
   "cell_type": "code",
   "execution_count": 23,
   "metadata": {},
   "outputs": [
    {
     "data": {
      "text/plain": [
       "[2, 3, 1, 5, 3, 4, 7, 6, 8]"
      ]
     },
     "execution_count": 23,
     "metadata": {},
     "output_type": "execute_result"
    }
   ],
   "source": [
    "traverse_pre_order(tree2)"
   ]
  },
  {
   "cell_type": "markdown",
   "metadata": {},
   "source": [
    "### Postorder Traversal\n",
    "1. Traverse the left subtree, i.e., call Postorder(left->subtree)\n",
    "2. Traverse the right subtree, i.e., call Postorder(right->subtree)\n",
    "3. Traverse the current node."
   ]
  },
  {
   "cell_type": "code",
   "execution_count": 24,
   "metadata": {},
   "outputs": [],
   "source": [
    "def traverse_post_order(node):\n",
    "    if node is None:\n",
    "        return []\n",
    "    return traverse_post_order(node.left) + traverse_post_order(node.right) + [node.key]"
   ]
  },
  {
   "cell_type": "code",
   "execution_count": 25,
   "metadata": {},
   "outputs": [
    {
     "data": {
      "text/plain": [
       "[1, 3, 4, 3, 6, 8, 7, 5, 2]"
      ]
     },
     "execution_count": 25,
     "metadata": {},
     "output_type": "execute_result"
    }
   ],
   "source": [
    "traverse_post_order(tree2)"
   ]
  },
  {
   "cell_type": "markdown",
   "metadata": {},
   "source": [
    "### Get the height of the tree"
   ]
  },
  {
   "cell_type": "code",
   "execution_count": 26,
   "metadata": {},
   "outputs": [],
   "source": [
    "def tree_height(node):\n",
    "    if node is None:\n",
    "        return 0\n",
    "    return 1 + max(tree_height(node.left), tree_height(node.right))"
   ]
  },
  {
   "cell_type": "code",
   "execution_count": 27,
   "metadata": {},
   "outputs": [
    {
     "data": {
      "text/plain": [
       "4"
      ]
     },
     "execution_count": 27,
     "metadata": {},
     "output_type": "execute_result"
    }
   ],
   "source": [
    "tree_height(tree2)"
   ]
  },
  {
   "cell_type": "markdown",
   "metadata": {},
   "source": [
    "### Get the number of nodes in the tree"
   ]
  },
  {
   "cell_type": "code",
   "execution_count": 28,
   "metadata": {},
   "outputs": [],
   "source": [
    "def tree_size(node):\n",
    "    if node is None:\n",
    "        return 0\n",
    "    return 1 + tree_size(node.left) + tree_size(node.right)"
   ]
  },
  {
   "cell_type": "code",
   "execution_count": 29,
   "metadata": {},
   "outputs": [
    {
     "data": {
      "text/plain": [
       "9"
      ]
     },
     "execution_count": 29,
     "metadata": {},
     "output_type": "execute_result"
    }
   ],
   "source": [
    "tree_size(tree2)"
   ]
  },
  {
   "cell_type": "markdown",
   "metadata": {},
   "source": [
    "### Get the maximum depth in the tree"
   ]
  },
  {
   "cell_type": "code",
   "execution_count": 30,
   "metadata": {},
   "outputs": [],
   "source": [
    "def max_depth(node):\n",
    "    if node is None:\n",
    "        return 0\n",
    "    left_depth = max_depth(node.left)\n",
    "    right_depth = max_depth(node.right)\n",
    "    return 1 + max(left_depth, right_depth)"
   ]
  },
  {
   "cell_type": "code",
   "execution_count": 31,
   "metadata": {},
   "outputs": [
    {
     "data": {
      "text/plain": [
       "4"
      ]
     },
     "execution_count": 31,
     "metadata": {},
     "output_type": "execute_result"
    }
   ],
   "source": [
    "max_depth(tree2)"
   ]
  },
  {
   "cell_type": "markdown",
   "metadata": {},
   "source": [
    "### Get the minimum depth in the tree"
   ]
  },
  {
   "cell_type": "code",
   "execution_count": 32,
   "metadata": {},
   "outputs": [],
   "source": [
    "def min_depth(node):\n",
    "    if node is None:\n",
    "        return 0\n",
    "    left_depth = min_depth(node.left)\n",
    "    right_depth = min_depth(node.right)\n",
    "    if not node.left or not node.right:\n",
    "        return 1 + max(left_depth, right_depth)\n",
    "    else:\n",
    "        return 1 + min(left_depth, right_depth)"
   ]
  },
  {
   "cell_type": "code",
   "execution_count": 33,
   "metadata": {},
   "outputs": [
    {
     "data": {
      "text/plain": [
       "3"
      ]
     },
     "execution_count": 33,
     "metadata": {},
     "output_type": "execute_result"
    }
   ],
   "source": [
    "min_depth(tree2)"
   ]
  },
  {
   "cell_type": "code",
   "execution_count": 34,
   "metadata": {},
   "outputs": [],
   "source": [
    "class TreeNode():\n",
    "    def __init__(self, key):\n",
    "        self.key = key\n",
    "        self.left = None\n",
    "        self.right = None\n",
    "        \n",
    "    def height(self):\n",
    "        if self is None:\n",
    "            return 0\n",
    "        return 1 + max(TreeNode.height(self.left), TreeNode.height(self.right))\n",
    "    \n",
    "    def size(self):\n",
    "        if self is None:\n",
    "            return 0\n",
    "        return 1 + TreeNode.size(self.left) + TreeNode.size(self.right)\n",
    "    \n",
    "    def traverse_in_order(self):\n",
    "        if self is None:\n",
    "            return []\n",
    "        return TreeNode.traverse_in_order(self.left) + [self.key] + TreeNode.traverse_in_order(self.right)\n",
    "    \n",
    "    def traverse_pre_order(self):\n",
    "        if self is None:\n",
    "            return []\n",
    "        return [self.key] + TreeNode.traverse_pre_order(self.left) + TreeNode.traverse_pre_order(self.right)\n",
    "    \n",
    "    def traverse_post_order(self):\n",
    "        if self is None:\n",
    "            return []\n",
    "        return TreeNode.traverse_post_order(self.left) + TreeNode.traverse_post_order(self.right) + [self.key]\n",
    "    \n",
    "    def display_keys(self, space = '\\t', level = 0):\n",
    "        # If node is empty\n",
    "        if self is None:\n",
    "            print(space * level + 'None')\n",
    "            return\n",
    "        # If node is a leaf\n",
    "        if self.left is None and self.right is None:\n",
    "            print(space * level + str(self.key))\n",
    "            return\n",
    "        # If node has children\n",
    "        TreeNode.display_keys(self.right, space, level + 1)\n",
    "        print(space * level + str(self.key))\n",
    "        TreeNode.display_keys(self.left, space, level + 1)\n",
    "        \n",
    "    def to_tuple(self):\n",
    "        if self is None:\n",
    "            return None\n",
    "        if self.left is None and self.right is None:\n",
    "            return self.key\n",
    "        return TreeNode.to_tuple(self.left), self.key, TreeNode.to_tuple(self.right)\n",
    "    \n",
    "    def __str__(self):\n",
    "        return f'Binary Tree <{self.to_tuple()}>'\n",
    "    \n",
    "    def __repr__(self):\n",
    "        return f'Binary Tree <{self.to_tuple()}>'\n",
    "    \n",
    "    @staticmethod\n",
    "    def parse_tuple(data):\n",
    "        if data is None:\n",
    "            node = None\n",
    "        elif isinstance(data, tuple) and len(data) == 3:\n",
    "            node = TreeNode(data[1])\n",
    "            node.left = TreeNode.parse_tuple(data[0])\n",
    "            node.right = TreeNode.parse_tuple(data[2])\n",
    "        else:\n",
    "            node = TreeNode(data)\n",
    "        return node"
   ]
  },
  {
   "cell_type": "code",
   "execution_count": 35,
   "metadata": {},
   "outputs": [
    {
     "data": {
      "text/plain": [
       "((1, 3, None), 2, ((None, 3, 4), 5, (6, 7, 8)))"
      ]
     },
     "execution_count": 35,
     "metadata": {},
     "output_type": "execute_result"
    }
   ],
   "source": [
    "tree_tuple"
   ]
  },
  {
   "cell_type": "code",
   "execution_count": 36,
   "metadata": {},
   "outputs": [
    {
     "data": {
      "text/plain": [
       "Binary Tree <((1, 3, None), 2, ((None, 3, 4), 5, (6, 7, 8)))>"
      ]
     },
     "execution_count": 36,
     "metadata": {},
     "output_type": "execute_result"
    }
   ],
   "source": [
    "tree = TreeNode.parse_tuple(tree_tuple)\n",
    "tree"
   ]
  },
  {
   "cell_type": "code",
   "execution_count": 37,
   "metadata": {},
   "outputs": [
    {
     "name": "stdout",
     "output_type": "stream",
     "text": [
      "\t\t\t8\n",
      "\t\t7\n",
      "\t\t\t6\n",
      "\t5\n",
      "\t\t\t4\n",
      "\t\t3\n",
      "\t\t\tNone\n",
      "2\n",
      "\t\tNone\n",
      "\t3\n",
      "\t\t1\n"
     ]
    }
   ],
   "source": [
    "tree.display_keys()"
   ]
  },
  {
   "cell_type": "code",
   "execution_count": 38,
   "metadata": {},
   "outputs": [
    {
     "data": {
      "text/plain": [
       "4"
      ]
     },
     "execution_count": 38,
     "metadata": {},
     "output_type": "execute_result"
    }
   ],
   "source": [
    "tree.height()"
   ]
  },
  {
   "cell_type": "code",
   "execution_count": 39,
   "metadata": {},
   "outputs": [
    {
     "data": {
      "text/plain": [
       "9"
      ]
     },
     "execution_count": 39,
     "metadata": {},
     "output_type": "execute_result"
    }
   ],
   "source": [
    "tree.size()"
   ]
  },
  {
   "cell_type": "code",
   "execution_count": 40,
   "metadata": {},
   "outputs": [
    {
     "data": {
      "text/plain": [
       "[1, 3, 2, 3, 4, 5, 6, 7, 8]"
      ]
     },
     "execution_count": 40,
     "metadata": {},
     "output_type": "execute_result"
    }
   ],
   "source": [
    "tree.traverse_in_order()"
   ]
  },
  {
   "cell_type": "code",
   "execution_count": 41,
   "metadata": {},
   "outputs": [
    {
     "data": {
      "text/plain": [
       "((1, 3, None), 2, ((None, 3, 4), 5, (6, 7, 8)))"
      ]
     },
     "execution_count": 41,
     "metadata": {},
     "output_type": "execute_result"
    }
   ],
   "source": [
    "tree.to_tuple()"
   ]
  },
  {
   "cell_type": "markdown",
   "metadata": {},
   "source": [
    "## Binary Search Tree\n",
    "A binary search tree or BST is a binary tree that satisfies the following conditions:\n",
    "\n",
    "1. The left subtree of any node only contains nodes with keys less than the node's key.\n",
    "2. The right subtree of any node only contains nodes with keys greater than the node's key.\n",
    "\n",
    "It follows from the above conditions that every subtree of a binary search tree must also be a binary search tree."
   ]
  },
  {
   "cell_type": "code",
   "execution_count": 42,
   "metadata": {},
   "outputs": [],
   "source": [
    "# Remove None from the list of node's keys\n",
    "def remove_none(nums):\n",
    "    return [x for x in nums if x is not None]\n",
    "\n",
    "def is_bst(node):\n",
    "    \n",
    "    if node is None:\n",
    "        return True, None, None\n",
    "    \n",
    "    is_bst_l, min_l, max_l = is_bst(node.left)\n",
    "    is_bst_r, min_r, max_r = is_bst(node.right)\n",
    "    \n",
    "    is_bst_node = (is_bst_l and is_bst_r \n",
    "                   and (max_l is None or node.key > max_l) \n",
    "                   and (min_r is None or node.key < min_r))\n",
    "    min_key = min(remove_none([min_l, node.key, min_r]))\n",
    "    max_key = max(remove_none([max_l, node.key, max_r]))\n",
    "    \n",
    "    return is_bst_node, min_key, max_key\n",
    "    "
   ]
  },
  {
   "cell_type": "code",
   "execution_count": 43,
   "metadata": {},
   "outputs": [
    {
     "data": {
      "text/plain": [
       "(False, 1, 8)"
      ]
     },
     "execution_count": 43,
     "metadata": {},
     "output_type": "execute_result"
    }
   ],
   "source": [
    "is_bst(tree)"
   ]
  },
  {
   "cell_type": "markdown",
   "metadata": {},
   "source": [
    "<img src=\"bst_ex1.png\" alt=\"Alternative text\" width=\"500\" height=\"400\"/>"
   ]
  },
  {
   "cell_type": "code",
   "execution_count": 44,
   "metadata": {},
   "outputs": [],
   "source": [
    "tree1 = TreeNode.parse_tuple((('anna', 'birain', 'hanry'), 'john', ('shein', 'sonata', 'victoria')))"
   ]
  },
  {
   "cell_type": "code",
   "execution_count": 45,
   "metadata": {},
   "outputs": [
    {
     "data": {
      "text/plain": [
       "(True, 'anna', 'victoria')"
      ]
     },
     "execution_count": 45,
     "metadata": {},
     "output_type": "execute_result"
    }
   ],
   "source": [
    "is_bst(tree1)"
   ]
  },
  {
   "cell_type": "markdown",
   "metadata": {},
   "source": [
    "## Storing Key-Value Pairs using BSTs"
   ]
  },
  {
   "cell_type": "code",
   "execution_count": 46,
   "metadata": {},
   "outputs": [],
   "source": [
    "class BSTNode():\n",
    "    def __init__(self, key, value=None):\n",
    "        self.key = key\n",
    "        self.value = value\n",
    "        self.left = None\n",
    "        self.right = None\n",
    "        self.parent = None"
   ]
  },
  {
   "cell_type": "markdown",
   "metadata": {},
   "source": [
    "Create class User"
   ]
  },
  {
   "cell_type": "code",
   "execution_count": 47,
   "metadata": {},
   "outputs": [],
   "source": [
    "class User:\n",
    "    def __init__(self, username, name, email):\n",
    "        self.username = username\n",
    "        self.name = name\n",
    "        self.email = email\n",
    "        \n",
    "    def __repr__(self):\n",
    "        return \"User(username='{}', name='{}', email='{}')\".format(self.username, self.name, self.email)\n",
    "    \n",
    "    def __str__(self):\n",
    "        return self.__repr__()"
   ]
  },
  {
   "cell_type": "code",
   "execution_count": 48,
   "metadata": {},
   "outputs": [],
   "source": [
    "john = User('john', 'John Smith', 'john.smith@gmail.com')\n",
    "birain = User('birain', 'Birain Joon', 'birain.joon@gmail.com')\n",
    "anna = User('anna', 'Anna Do', 'anna.do@gmail.com')\n",
    "hanry = User('hanry', 'Hanry White', 'hanry.white@gmail.com')\n",
    "sonata = User('sonata', 'Sonata Sasha', 'sonata.sasha@gmail.com')\n",
    "shein = User('shein', 'Shein Wang', 'shein.wang@gmail.com')\n",
    "victoria = User('victoria', 'Victoria Smith', 'victoria.smith@gmail.com')"
   ]
  },
  {
   "cell_type": "code",
   "execution_count": 49,
   "metadata": {},
   "outputs": [],
   "source": [
    "tree = BSTNode(john.username, john)"
   ]
  },
  {
   "cell_type": "code",
   "execution_count": 50,
   "metadata": {},
   "outputs": [
    {
     "data": {
      "text/plain": [
       "('john',\n",
       " User(username='john', name='John Smith', email='john.smith@gmail.com'))"
      ]
     },
     "execution_count": 50,
     "metadata": {},
     "output_type": "execute_result"
    }
   ],
   "source": [
    "tree.key, tree.value"
   ]
  },
  {
   "cell_type": "code",
   "execution_count": 51,
   "metadata": {},
   "outputs": [],
   "source": [
    "tree.left = BSTNode(birain.username, birain)\n",
    "tree.right = BSTNode(sonata.username, sonata)"
   ]
  },
  {
   "cell_type": "code",
   "execution_count": 52,
   "metadata": {},
   "outputs": [],
   "source": [
    "tree.left.parent = tree"
   ]
  },
  {
   "cell_type": "code",
   "execution_count": 53,
   "metadata": {},
   "outputs": [],
   "source": [
    "tree.left.left = BSTNode(anna.username, anna)\n",
    "tree.left.right = BSTNode(hanry.username, hanry)\n",
    "tree.left.left.parent = tree.left"
   ]
  },
  {
   "cell_type": "code",
   "execution_count": 54,
   "metadata": {},
   "outputs": [],
   "source": [
    "tree.left.right.parent = tree.left"
   ]
  },
  {
   "cell_type": "code",
   "execution_count": 55,
   "metadata": {},
   "outputs": [],
   "source": [
    "tree.right.left = BSTNode(shein.username, shein)\n",
    "tree.right.right = BSTNode(victoria.username, victoria)\n",
    "tree.right.parent = tree\n",
    "tree.right.left.parent = tree.right\n",
    "tree.right.right.parent = tree.right"
   ]
  },
  {
   "cell_type": "code",
   "execution_count": 56,
   "metadata": {},
   "outputs": [
    {
     "name": "stdout",
     "output_type": "stream",
     "text": [
      "\t\tvictoria\n",
      "\tsonata\n",
      "\t\tshein\n",
      "john\n",
      "\t\thanry\n",
      "\tbirain\n",
      "\t\tanna\n"
     ]
    }
   ],
   "source": [
    "display_keys(tree)"
   ]
  },
  {
   "cell_type": "markdown",
   "metadata": {},
   "source": [
    "### Insertion into BST\n",
    "We use the BST-property to perform insertion efficiently:\n",
    "\n",
    "1. Starting from the root node, we compare the key to be inserted with the current node's key\n",
    "2. If the key is smaller, we recursively insert it in the left subtree (if it exists) or attach it as the left child if no left subtree exists.\n",
    "3. If the key is larger, we recursively insert it in the right subtree (if it exists) or attach it as the right child if no right subtree exists."
   ]
  },
  {
   "cell_type": "code",
   "execution_count": 57,
   "metadata": {},
   "outputs": [],
   "source": [
    "def insert(node, key, value):\n",
    "    if node is None:\n",
    "        node = BSTNode(key, value)\n",
    "    elif key < node.key:\n",
    "        node.left = insert(node.left, key, value)\n",
    "        node.left.parent = node\n",
    "    elif key > node.key:\n",
    "        node.right = insert(node.right, key, value)\n",
    "        node.right.parent = node\n",
    "    return node"
   ]
  },
  {
   "cell_type": "code",
   "execution_count": 58,
   "metadata": {},
   "outputs": [
    {
     "data": {
      "text/plain": [
       "<__main__.BSTNode at 0x7fca081b6190>"
      ]
     },
     "execution_count": 58,
     "metadata": {},
     "output_type": "execute_result"
    }
   ],
   "source": [
    "# Recreate the tree above\n",
    "bst_tree = insert(None, john.username, john)\n",
    "insert(bst_tree, birain.username, birain)\n",
    "insert(bst_tree, sonata.username, sonata)\n",
    "insert(bst_tree, anna.username, anna)\n",
    "insert(bst_tree, hanry.username, hanry)\n",
    "insert(bst_tree, shein.username, shein)\n",
    "insert(bst_tree, victoria.username, victoria)"
   ]
  },
  {
   "cell_type": "code",
   "execution_count": 59,
   "metadata": {},
   "outputs": [
    {
     "name": "stdout",
     "output_type": "stream",
     "text": [
      "\t\tvictoria\n",
      "\tsonata\n",
      "\t\tshein\n",
      "john\n",
      "\t\thanry\n",
      "\tbirain\n",
      "\t\tanna\n"
     ]
    }
   ],
   "source": [
    "display_keys(bst_tree)"
   ]
  },
  {
   "cell_type": "markdown",
   "metadata": {},
   "source": [
    "The length of the path traversed by insert is equal to the height of the tree (in the worst case). It follows that if the tree is balanced, the time complexity of insertion is O(log N) otherwise it is O(N)."
   ]
  },
  {
   "cell_type": "markdown",
   "metadata": {},
   "source": [
    "### Finding a Node in BST\n"
   ]
  },
  {
   "cell_type": "code",
   "execution_count": 60,
   "metadata": {},
   "outputs": [],
   "source": [
    "def find_node(node, key):\n",
    "    if node is None:\n",
    "        return None\n",
    "    if node.key == key:\n",
    "        return node\n",
    "    if key < node.key:\n",
    "        return find_node(node.left, key)\n",
    "    if key > node.key:\n",
    "        return find_node(node.right, key)"
   ]
  },
  {
   "cell_type": "code",
   "execution_count": 61,
   "metadata": {},
   "outputs": [
    {
     "data": {
      "text/plain": [
       "('victoria',\n",
       " User(username='victoria', name='Victoria Smith', email='victoria.smith@gmail.com'))"
      ]
     },
     "execution_count": 61,
     "metadata": {},
     "output_type": "execute_result"
    }
   ],
   "source": [
    "node = find_node(bst_tree, 'victoria')\n",
    "node.key, node.value"
   ]
  },
  {
   "cell_type": "code",
   "execution_count": 62,
   "metadata": {},
   "outputs": [
    {
     "name": "stdout",
     "output_type": "stream",
     "text": [
      "None\n"
     ]
    }
   ],
   "source": [
    "print(find_node(bst_tree, 'tanya'))"
   ]
  },
  {
   "cell_type": "markdown",
   "metadata": {},
   "source": [
    "The length of the path followed by `find` is equal to the height of the tree (in the worst case). Thus it has a similar time complexity as `insert`."
   ]
  },
  {
   "cell_type": "markdown",
   "metadata": {},
   "source": [
    "### Update the value for a node in BST"
   ]
  },
  {
   "cell_type": "code",
   "execution_count": 63,
   "metadata": {},
   "outputs": [],
   "source": [
    "def update_node(node, key, value):\n",
    "    result = find_node(node, key)\n",
    "    if result is not None:\n",
    "        result.value = value"
   ]
  },
  {
   "cell_type": "code",
   "execution_count": 64,
   "metadata": {},
   "outputs": [],
   "source": [
    "update_node(bst_tree, 'victoria', User('victoria', 'Victoria Nguyen', 'victoria.nguyen@gmail.com'))"
   ]
  },
  {
   "cell_type": "code",
   "execution_count": 65,
   "metadata": {},
   "outputs": [
    {
     "data": {
      "text/plain": [
       "('victoria',\n",
       " User(username='victoria', name='Victoria Nguyen', email='victoria.nguyen@gmail.com'))"
      ]
     },
     "execution_count": 65,
     "metadata": {},
     "output_type": "execute_result"
    }
   ],
   "source": [
    "node = find_node(bst_tree, 'victoria')\n",
    "node.key, node.value"
   ]
  },
  {
   "cell_type": "markdown",
   "metadata": {},
   "source": [
    "The time complexity of `update` is the same as that of `find`."
   ]
  },
  {
   "cell_type": "markdown",
   "metadata": {},
   "source": [
    "### List the nodes\n",
    "Write a function to retrieve all the key-values pairs stored in a BST in the sorted order of keys."
   ]
  },
  {
   "cell_type": "code",
   "execution_count": 66,
   "metadata": {},
   "outputs": [],
   "source": [
    "def list_all_nodes(node):\n",
    "    if node is None:\n",
    "        return []\n",
    "    return list_all_nodes(node.left) + [(node.key, node.value)] + list_all_nodes(node.right)"
   ]
  },
  {
   "cell_type": "code",
   "execution_count": 67,
   "metadata": {},
   "outputs": [
    {
     "data": {
      "text/plain": [
       "[('anna', User(username='anna', name='Anna Do', email='anna.do@gmail.com')),\n",
       " ('birain',\n",
       "  User(username='birain', name='Birain Joon', email='birain.joon@gmail.com')),\n",
       " ('hanry',\n",
       "  User(username='hanry', name='Hanry White', email='hanry.white@gmail.com')),\n",
       " ('john',\n",
       "  User(username='john', name='John Smith', email='john.smith@gmail.com')),\n",
       " ('shein',\n",
       "  User(username='shein', name='Shein Wang', email='shein.wang@gmail.com')),\n",
       " ('sonata',\n",
       "  User(username='sonata', name='Sonata Sasha', email='sonata.sasha@gmail.com')),\n",
       " ('victoria',\n",
       "  User(username='victoria', name='Victoria Nguyen', email='victoria.nguyen@gmail.com'))]"
      ]
     },
     "execution_count": 67,
     "metadata": {},
     "output_type": "execute_result"
    }
   ],
   "source": [
    "list_all_nodes(bst_tree)"
   ]
  },
  {
   "cell_type": "markdown",
   "metadata": {},
   "source": [
    "## Balanced Binary Tree"
   ]
  },
  {
   "cell_type": "markdown",
   "metadata": {},
   "source": [
    "### Here's a recursive strategy:\n",
    "\n",
    "1. Ensure that the left subtree is balanced.\n",
    "2. Ensure that the right subtree is balanced.\n",
    "3. Ensure that the difference between heights of left subtree and right subtree is not more than 1."
   ]
  },
  {
   "cell_type": "code",
   "execution_count": 68,
   "metadata": {},
   "outputs": [],
   "source": [
    "def is_balanced(node):\n",
    "    \n",
    "    if node is None:\n",
    "        return True, 0\n",
    "    \n",
    "    balanced_l, height_l = is_balanced(node.left)\n",
    "    balanced_r, height_r = is_balanced(node.right)\n",
    "    \n",
    "    balanced = balanced_l and balanced_r and (abs(height_l - height_r) <= 1)\n",
    "    height = 1 + max(height_l, height_r)\n",
    "    \n",
    "    return balanced, height"
   ]
  },
  {
   "cell_type": "code",
   "execution_count": 69,
   "metadata": {},
   "outputs": [
    {
     "data": {
      "text/plain": [
       "(True, 3)"
      ]
     },
     "execution_count": 69,
     "metadata": {},
     "output_type": "execute_result"
    }
   ],
   "source": [
    "is_balanced(bst_tree)"
   ]
  },
  {
   "cell_type": "code",
   "execution_count": 70,
   "metadata": {},
   "outputs": [
    {
     "data": {
      "text/plain": [
       "<__main__.BSTNode at 0x7fca089c39d0>"
      ]
     },
     "execution_count": 70,
     "metadata": {},
     "output_type": "execute_result"
    }
   ],
   "source": [
    "tree2 = insert(None, anna.username, anna)\n",
    "insert(tree2, birain.username, birain)\n",
    "insert(tree2, sonata.username, sonata)\n",
    "insert(tree2, john.username, john)\n",
    "insert(tree2, hanry.username, hanry)\n",
    "insert(tree2, shein.username, shein)\n",
    "insert(tree2, victoria.username, victoria)"
   ]
  },
  {
   "cell_type": "code",
   "execution_count": 71,
   "metadata": {},
   "outputs": [
    {
     "name": "stdout",
     "output_type": "stream",
     "text": [
      "\t\t\tvictoria\n",
      "\t\tsonata\n",
      "\t\t\t\tshein\n",
      "\t\t\tjohn\n",
      "\t\t\t\thanry\n",
      "\tbirain\n",
      "\t\tNone\n",
      "anna\n",
      "\tNone\n"
     ]
    }
   ],
   "source": [
    "display_keys(tree2)"
   ]
  },
  {
   "cell_type": "code",
   "execution_count": 72,
   "metadata": {},
   "outputs": [
    {
     "data": {
      "text/plain": [
       "(False, 5)"
      ]
     },
     "execution_count": 72,
     "metadata": {},
     "output_type": "execute_result"
    }
   ],
   "source": [
    "is_balanced(tree2)"
   ]
  },
  {
   "cell_type": "markdown",
   "metadata": {},
   "source": [
    "<img src=\"bst_ex2.png\" alt=\"Alternative text\" width=\"500\" height=\"400\"/>"
   ]
  },
  {
   "cell_type": "code",
   "execution_count": 73,
   "metadata": {},
   "outputs": [
    {
     "data": {
      "text/plain": [
       "<__main__.BSTNode at 0x7fca08107640>"
      ]
     },
     "execution_count": 73,
     "metadata": {},
     "output_type": "execute_result"
    }
   ],
   "source": [
    "tanya = User('tanya', 'Tanya Samathan', 'tanya.samathan@gmail.com')\n",
    "tree1 = insert(None, john.username, john)\n",
    "insert(tree1, birain.username, birain)\n",
    "insert(tree1, sonata.username, sonata)\n",
    "insert(tree1, anna.username, anna)\n",
    "insert(tree1, hanry.username, hanry)\n",
    "insert(tree1, shein.username, shein)\n",
    "insert(tree1, victoria.username, victoria)\n",
    "insert(tree1, tanya.username, tanya)"
   ]
  },
  {
   "cell_type": "code",
   "execution_count": 74,
   "metadata": {},
   "outputs": [
    {
     "name": "stdout",
     "output_type": "stream",
     "text": [
      "\t\t\tNone\n",
      "\t\tvictoria\n",
      "\t\t\ttanya\n",
      "\tsonata\n",
      "\t\tshein\n",
      "john\n",
      "\t\thanry\n",
      "\tbirain\n",
      "\t\tanna\n"
     ]
    }
   ],
   "source": [
    "display_keys(tree1)"
   ]
  },
  {
   "cell_type": "code",
   "execution_count": 75,
   "metadata": {},
   "outputs": [
    {
     "data": {
      "text/plain": [
       "(True, 4)"
      ]
     },
     "execution_count": 75,
     "metadata": {},
     "output_type": "execute_result"
    }
   ],
   "source": [
    "is_balanced(tree1)"
   ]
  },
  {
   "cell_type": "markdown",
   "metadata": {},
   "source": [
    "## Complete Binary Tree\n",
    "Option 1:\n",
    "1. All the leaf elements must lean towards the left.\n",
    "\n",
    "2. The last leaf element might not have a right sibling i.e. a complete binary tree doesn't have to be a full binary tree.\n",
    "\n",
    "Option 2:\n",
    "1. Launch level-order-traersal (or BFS if we see binary tree as a single source graph on root )\n",
    "\n",
    "2. If there is an empty node (i.e. None) somewhere in the middle before last node,\n",
    "then it is Not a complete binary tree, thus return False.\n",
    "\n",
    "3. Otherwise, it is complete and return True."
   ]
  },
  {
   "cell_type": "code",
   "execution_count": 76,
   "metadata": {},
   "outputs": [],
   "source": [
    "tree1 = TreeNode.parse_tuple(tree_tuple)\n",
    "# Complete Binary Tree\n",
    "tree2 = TreeNode.parse_tuple(((4, 2, 5), 1, (6, 3, None)))\n",
    "# Not full Binary Tree and Complete Binary Tree \n",
    "tree3 = TreeNode.parse_tuple(((6, 2, 4), 1, (None, 3, 5)))\n",
    "# Full Binary Tree and not Complete Binary Tree\n",
    "tree4 = TreeNode.parse_tuple(((None, 2, None), 1, (6, 3, 4)))\n",
    "# Complete Binary Tree and not Full Binary Tree\n",
    "tree5 = TreeNode.parse_tuple(((6, 2, None), 1, (None, 3, None)))\n",
    "# Full Binary Tree and Complete Binary Tree\n",
    "tree6 = TreeNode.parse_tuple(((6, 2, 4), 1, (None, 3, None)))"
   ]
  },
  {
   "cell_type": "code",
   "execution_count": 77,
   "metadata": {},
   "outputs": [],
   "source": [
    "# Option 1:\n",
    "\n",
    "def is_complete_tree_op1(root, index, number_nodes):\n",
    "    if root is None:\n",
    "        return True\n",
    "    if index >= number_nodes:\n",
    "        return False\n",
    "    return (is_complete_tree_op1(root.left, 2 * index + 1, number_nodes)\n",
    "            and is_complete_tree_op1(root.right, 2 * index + 2, number_nodes))"
   ]
  },
  {
   "cell_type": "code",
   "execution_count": 78,
   "metadata": {},
   "outputs": [],
   "source": [
    "from collections import deque\n",
    "\n",
    "# Option 2:\n",
    "\n",
    "def is_complete_tree_op2(root):\n",
    "    \n",
    "    traversal_queue = deque([root])\n",
    "    pre_node = root\n",
    "    \n",
    "    while traversal_queue:\n",
    "        # Get the first left of the queue\n",
    "        cur_node = traversal_queue.popleft()\n",
    "        if cur_node:\n",
    "            if not pre_node:\n",
    "                # Empty node in the middle -> not complete binary tree (not left-compact)\n",
    "                return False\n",
    "            traversal_queue.append(cur_node.left)\n",
    "            traversal_queue.append(cur_node.right)\n",
    "            \n",
    "        # Update previous node\n",
    "        pre_node = cur_node\n",
    "    \n",
    "    return True   \n",
    "    "
   ]
  },
  {
   "cell_type": "code",
   "execution_count": 79,
   "metadata": {},
   "outputs": [
    {
     "data": {
      "text/plain": [
       "(False, True, False, False, True, True)"
      ]
     },
     "execution_count": 79,
     "metadata": {},
     "output_type": "execute_result"
    }
   ],
   "source": [
    "is_complete_tree_op2(tree1), is_complete_tree_op2(tree2), is_complete_tree_op2(tree3), is_complete_tree_op2(tree4), is_complete_tree_op2(tree5), is_complete_tree_op2(tree6)"
   ]
  },
  {
   "cell_type": "code",
   "execution_count": 80,
   "metadata": {},
   "outputs": [
    {
     "data": {
      "text/plain": [
       "(False, True, False)"
      ]
     },
     "execution_count": 80,
     "metadata": {},
     "output_type": "execute_result"
    }
   ],
   "source": [
    "index = 0\n",
    "is_complete_tree_op1(tree1, index, tree1.size()), is_complete_tree_op1(tree2, index, tree2.size()), is_complete_tree_op1(tree3, index, tree3.size())"
   ]
  },
  {
   "cell_type": "code",
   "execution_count": 81,
   "metadata": {},
   "outputs": [
    {
     "data": {
      "text/plain": [
       "(False, True, True)"
      ]
     },
     "execution_count": 81,
     "metadata": {},
     "output_type": "execute_result"
    }
   ],
   "source": [
    "is_complete_tree_op1(tree4, index, tree4.size()),is_complete_tree_op1(tree5, index, tree5.size()), is_complete_tree_op1(tree6, index, tree6.size())"
   ]
  },
  {
   "cell_type": "markdown",
   "metadata": {},
   "source": [
    "## Balanced Binary Search Tree"
   ]
  },
  {
   "cell_type": "markdown",
   "metadata": {},
   "source": [
    "### Create Balanced Binary Search Tree (Write a function to create a balanced BST from a sorted list/array of key-value pairs.)\n",
    "Use a recursive strategy here, turning the middle element of the list into the root, and recursively creating left and right subtrees."
   ]
  },
  {
   "cell_type": "code",
   "execution_count": 82,
   "metadata": {},
   "outputs": [],
   "source": [
    "def create_balanced_bst(data, lo = 0, hi = None, parent = None):\n",
    "    if hi is None:\n",
    "        hi = len(data) - 1\n",
    "    if lo > hi:\n",
    "        return None\n",
    "    mid = (lo + hi) // 2\n",
    "    key, value = data[mid]\n",
    "    \n",
    "    root = BSTNode(key, value)\n",
    "    root.parent = parent\n",
    "    root.left = create_balanced_bst(data, lo, mid - 1, root)\n",
    "    root.right = create_balanced_bst(data, mid + 1, hi, root)\n",
    "    \n",
    "    return root"
   ]
  },
  {
   "cell_type": "code",
   "execution_count": 83,
   "metadata": {},
   "outputs": [],
   "source": [
    "users = []\n",
    "users.append(anna)\n",
    "users.append(birain)\n",
    "users.append(hanry)\n",
    "users.append(john)\n",
    "users.append(shein)\n",
    "users.append(sonata)\n",
    "users.append(victoria)\n",
    "data = [(user.username, user) for user in users]"
   ]
  },
  {
   "cell_type": "code",
   "execution_count": 84,
   "metadata": {},
   "outputs": [],
   "source": [
    "balanced_bst = create_balanced_bst(data)"
   ]
  },
  {
   "cell_type": "code",
   "execution_count": 85,
   "metadata": {},
   "outputs": [
    {
     "name": "stdout",
     "output_type": "stream",
     "text": [
      "\t\tvictoria\n",
      "\tsonata\n",
      "\t\tshein\n",
      "john\n",
      "\t\thanry\n",
      "\tbirain\n",
      "\t\tanna\n"
     ]
    }
   ],
   "source": [
    "display_keys(balanced_bst)"
   ]
  },
  {
   "cell_type": "markdown",
   "metadata": {},
   "source": [
    "With the sorted key-value pairs list, we have to use create_balanced_bst() function to make a balanced binary search tree.\n",
    "When we insert one-by-one, it get the skewed tree."
   ]
  },
  {
   "cell_type": "code",
   "execution_count": 86,
   "metadata": {},
   "outputs": [],
   "source": [
    "skewed_tree = None\n",
    "for username, user in data:\n",
    "    skewed_tree = insert(skewed_tree, username, user)"
   ]
  },
  {
   "cell_type": "code",
   "execution_count": 87,
   "metadata": {},
   "outputs": [
    {
     "name": "stdout",
     "output_type": "stream",
     "text": [
      "\t\t\t\t\t\tvictoria\n",
      "\t\t\t\t\tsonata\n",
      "\t\t\t\t\t\tNone\n",
      "\t\t\t\tshein\n",
      "\t\t\t\t\tNone\n",
      "\t\t\tjohn\n",
      "\t\t\t\tNone\n",
      "\t\thanry\n",
      "\t\t\tNone\n",
      "\tbirain\n",
      "\t\tNone\n",
      "anna\n",
      "\tNone\n"
     ]
    }
   ],
   "source": [
    "display_keys(skewed_tree)"
   ]
  },
  {
   "cell_type": "markdown",
   "metadata": {},
   "source": [
    "## Balancing an Unbalanced BST"
   ]
  },
  {
   "cell_type": "code",
   "execution_count": 88,
   "metadata": {},
   "outputs": [],
   "source": [
    "def balance_bst(tree):\n",
    "    return create_balanced_bst(list_all_nodes(tree))"
   ]
  },
  {
   "cell_type": "code",
   "execution_count": 89,
   "metadata": {},
   "outputs": [],
   "source": [
    "balanced_tree = balance_bst(skewed_tree)"
   ]
  },
  {
   "cell_type": "code",
   "execution_count": 90,
   "metadata": {},
   "outputs": [
    {
     "name": "stdout",
     "output_type": "stream",
     "text": [
      "\t\tvictoria\n",
      "\tsonata\n",
      "\t\tshein\n",
      "john\n",
      "\t\thanry\n",
      "\tbirain\n",
      "\t\tanna\n"
     ]
    }
   ],
   "source": [
    "display_keys(balanced_tree)"
   ]
  },
  {
   "cell_type": "markdown",
   "metadata": {},
   "source": [
    "After every insertion, we can balance the tree. This way the tree will remain balanced.\n",
    "\n",
    "Complexity of the various operations in a balanced BST:\n",
    "\n",
    "Insert - O(log N) + O(N) = O(N)\n",
    "\n",
    "Find - O(log N)\n",
    "\n",
    "Update - O(log N)\n",
    "\n",
    "List all - O(N)"
   ]
  },
  {
   "cell_type": "markdown",
   "metadata": {},
   "source": [
    "## A Python-Friendly Treemap"
   ]
  },
  {
   "cell_type": "markdown",
   "metadata": {},
   "source": [
    "As a senior backend engineer at Jovian, you are tasked with developing a fast in-memory data structure to manage profile information (username, name and email) for 100 million users. \n",
    "\n",
    "It should allow the following operations to be performed efficiently:\n",
    "\n",
    "1. Insert the profile information for a new user\n",
    "2. Find the profile information of a user, given their username\n",
    "3. Update the profile information of a user, given their usrname\n",
    "4. List all the users of the platform, sorted by username"
   ]
  },
  {
   "cell_type": "markdown",
   "metadata": {},
   "source": [
    "### What's the real improvement between O(N) and O(log N)?"
   ]
  },
  {
   "cell_type": "code",
   "execution_count": 91,
   "metadata": {},
   "outputs": [
    {
     "data": {
      "text/plain": [
       "26.5754247590989"
      ]
     },
     "execution_count": 91,
     "metadata": {},
     "output_type": "execute_result"
    }
   ],
   "source": [
    "import math\n",
    "math.log(100000000, 2)"
   ]
  },
  {
   "cell_type": "code",
   "execution_count": 92,
   "metadata": {},
   "outputs": [
    {
     "name": "stdout",
     "output_type": "stream",
     "text": [
      "CPU times: user 6 µs, sys: 1e+03 ns, total: 7 µs\n",
      "Wall time: 8.11 µs\n"
     ]
    }
   ],
   "source": [
    "%%time\n",
    "for i in range(26):\n",
    "    j = i * i"
   ]
  },
  {
   "cell_type": "code",
   "execution_count": 93,
   "metadata": {},
   "outputs": [
    {
     "name": "stdout",
     "output_type": "stream",
     "text": [
      "CPU times: user 8.42 s, sys: 32.2 ms, total: 8.45 s\n",
      "Wall time: 8.51 s\n"
     ]
    }
   ],
   "source": [
    "%%time\n",
    "for i in range (100000000):\n",
    "    j = i * i"
   ]
  },
  {
   "cell_type": "markdown",
   "metadata": {},
   "source": [
    "Thus, find and update from a balanced binary search tree is 300,000 times faster than our original solution. \n",
    "\n",
    "To speed up insertions, we may choose to perform the balancing periodically (e.g. once every 1000 insertions). \n",
    "\n",
    "This way, most insertions will be O (log N), but every 1000th insertion will take a few seconds. \n",
    "\n",
    "Another options is to rebalance the tree periodically at the end of every hour."
   ]
  },
  {
   "cell_type": "markdown",
   "metadata": {},
   "source": [
    "### We can create a generic class TreeMap which supports all the operations specified in the original problem statement in a python-friendly manner."
   ]
  },
  {
   "cell_type": "code",
   "execution_count": 94,
   "metadata": {},
   "outputs": [],
   "source": [
    "class TreeMap():\n",
    "    def __init__(self):\n",
    "        self.root = None\n",
    "    \n",
    "    def __setitem__(self, key, value):\n",
    "        node = find_node(self.root, key)\n",
    "        if not node:\n",
    "            self.root = insert(self.root, key, value)\n",
    "            self.root = balance_bst(self.root)\n",
    "        else:\n",
    "            update_node(self.root, key, value)\n",
    "            \n",
    "    def __getitem__(self, key):\n",
    "        node = find_node(self, key)\n",
    "        return node.value if node else None\n",
    "    \n",
    "    def __iter__(self):\n",
    "        return (x for x in list_all_nodes(self.root))\n",
    "    \n",
    "    def __len__(self):\n",
    "        return tree_size(self.root)\n",
    "    \n",
    "    def display(self):\n",
    "        display_keys(self.root)"
   ]
  },
  {
   "cell_type": "code",
   "execution_count": 95,
   "metadata": {},
   "outputs": [],
   "source": [
    "tree_map = TreeMap()"
   ]
  },
  {
   "cell_type": "code",
   "execution_count": 96,
   "metadata": {},
   "outputs": [
    {
     "name": "stdout",
     "output_type": "stream",
     "text": [
      "None\n"
     ]
    }
   ],
   "source": [
    "tree_map.display()"
   ]
  },
  {
   "cell_type": "code",
   "execution_count": 97,
   "metadata": {},
   "outputs": [],
   "source": [
    "tree_map['anna'] = anna\n",
    "tree_map['john'] = john\n",
    "tree_map['sonata'] = sonata"
   ]
  },
  {
   "cell_type": "code",
   "execution_count": 98,
   "metadata": {},
   "outputs": [
    {
     "name": "stdout",
     "output_type": "stream",
     "text": [
      "\tsonata\n",
      "john\n",
      "\tanna\n"
     ]
    }
   ],
   "source": [
    "tree_map.display()"
   ]
  },
  {
   "cell_type": "code",
   "execution_count": 99,
   "metadata": {},
   "outputs": [],
   "source": [
    "tree_map['hanry'] = hanry\n",
    "tree_map['birain'] = birain\n",
    "tree_map['shein'] = shein\n",
    "tree_map['victoria'] = victoria"
   ]
  },
  {
   "cell_type": "code",
   "execution_count": 100,
   "metadata": {},
   "outputs": [
    {
     "name": "stdout",
     "output_type": "stream",
     "text": [
      "\t\tvictoria\n",
      "\tsonata\n",
      "\t\tshein\n",
      "john\n",
      "\t\thanry\n",
      "\tbirain\n",
      "\t\tanna\n"
     ]
    }
   ],
   "source": [
    "tree_map.display()"
   ]
  },
  {
   "cell_type": "code",
   "execution_count": 101,
   "metadata": {},
   "outputs": [
    {
     "data": {
      "text/plain": [
       "7"
      ]
     },
     "execution_count": 101,
     "metadata": {},
     "output_type": "execute_result"
    }
   ],
   "source": [
    "len(tree_map)"
   ]
  },
  {
   "cell_type": "code",
   "execution_count": 102,
   "metadata": {},
   "outputs": [
    {
     "name": "stdout",
     "output_type": "stream",
     "text": [
      "anna User(username='anna', name='Anna Do', email='anna.do@gmail.com')\n",
      "birain User(username='birain', name='Birain Joon', email='birain.joon@gmail.com')\n",
      "hanry User(username='hanry', name='Hanry White', email='hanry.white@gmail.com')\n",
      "john User(username='john', name='John Smith', email='john.smith@gmail.com')\n",
      "shein User(username='shein', name='Shein Wang', email='shein.wang@gmail.com')\n",
      "sonata User(username='sonata', name='Sonata Sasha', email='sonata.sasha@gmail.com')\n",
      "victoria User(username='victoria', name='Victoria Smith', email='victoria.smith@gmail.com')\n"
     ]
    }
   ],
   "source": [
    "for key, value in tree_map:\n",
    "    print(key, value)"
   ]
  },
  {
   "cell_type": "code",
   "execution_count": null,
   "metadata": {},
   "outputs": [],
   "source": []
  }
 ],
 "metadata": {
  "kernelspec": {
   "display_name": "Python 3.9.12 ('base')",
   "language": "python",
   "name": "python3"
  },
  "language_info": {
   "codemirror_mode": {
    "name": "ipython",
    "version": 3
   },
   "file_extension": ".py",
   "mimetype": "text/x-python",
   "name": "python",
   "nbconvert_exporter": "python",
   "pygments_lexer": "ipython3",
   "version": "3.9.12"
  },
  "orig_nbformat": 4,
  "vscode": {
   "interpreter": {
    "hash": "32cbc08098cf08c82fbfef63979fb6f38cbc6be1f5cbf8cbd06900055c7ca9c0"
   }
  }
 },
 "nbformat": 4,
 "nbformat_minor": 2
}
