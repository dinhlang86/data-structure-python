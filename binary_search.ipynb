{
 "cells": [
  {
   "cell_type": "markdown",
   "metadata": {},
   "source": [
    "## Problem 1: Alice has some cards with numbers written on them. She arranges the cards in decreasing order, and lays them out face down in a sequence on a table. She challenges Bob to pick out the card containing a given number by turning over as few cards as possible. Write a function to help Bob locate the card."
   ]
  },
  {
   "cell_type": "code",
   "execution_count": null,
   "metadata": {},
   "outputs": [],
   "source": [
    "!pip install jovian --upgrade --quiet"
   ]
  },
  {
   "cell_type": "code",
   "execution_count": 25,
   "metadata": {},
   "outputs": [],
   "source": [
    "from jovian.pythondsa import evaluate_test_cases, evaluate_test_case"
   ]
  },
  {
   "cell_type": "markdown",
   "metadata": {},
   "source": [
    "Some variations might be encountered:\n",
    "1. The list cards is empty.\n",
    "2. The list cards do not contain the number query.\n",
    "3. The list cards contain more than 1 number query.\n",
    "4. The number query is the first element.\n",
    "5. The number query is the last element.\n",
    "6. The list cards has 1 element that is the number query.\n",
    "7. The number query appears somewhere in the middle of the list cards.\n",
    "8. The list cards contains repeating numbers. "
   ]
  },
  {
   "cell_type": "code",
   "execution_count": null,
   "metadata": {},
   "outputs": [],
   "source": [
    "# Create test cases\n",
    "tests = []\n",
    "# 1. The list cards is empty\n",
    "tests.append({'input':{'cards': [],\n",
    "                       'query': 3},\n",
    "              'output': -1})\n",
    "#2. The list cards do not contain the number query\n",
    "tests.append({'input':{'cards': [14, 6, 5, 3, 2],\n",
    "                       'query': 7},\n",
    "              'output': -1})\n",
    "#3. The list cards contain more than 1 number query\n",
    "tests.append({'input':{'cards': [20, 16, 14, 10, 10, 5, 3, 0],\n",
    "                       'query': 10},\n",
    "              'output': 3})\n",
    "#4. The number query is the first element\n",
    "tests.append({'input':{'cards': [15, 8, 5, 3, 1],\n",
    "                       'query': 15},\n",
    "              'output': 0})\n",
    "#5. The number query is the last element\n",
    "tests.append({'input':{'cards': [15, 8, 5, 3, 1],\n",
    "                       'query': 1},\n",
    "              'output': 4})\n",
    "#6. The list cards has 1 element that is the number query\n",
    "tests.append({'input':{'cards': [8],\n",
    "                       'query': 8},\n",
    "              'output': 0})\n",
    "#7. The number query appears somewhere in the middle of the list cards\n",
    "tests.append({'input':{'cards': [21, 17, 15, 10, 9, 6, 4, 3, 0],\n",
    "                       'query': 9},\n",
    "              'output': 4})\n",
    "#8. The list cards contains repeating numbers\n",
    "tests.append({'input':{'cards': [8, 8, 6, 6, 6, 6, 6, 6, 3, 2, 2, 2, 0, 0, 0],\n",
    "                       'query': 6},\n",
    "              'output': 2})"
   ]
  },
  {
   "cell_type": "markdown",
   "metadata": {},
   "source": [
    "Make a linear search algorithm, do step by step:\n",
    "1. Create variable position and assign value 0 for it.\n",
    "2. Check the number at position in the list cards equals to the number query.\n",
    "3. If it does, return the value of position.\n",
    "4. If not, increment the value of position by 1, repeat from step 2 to step 4 untill we reach the situation.\n",
    "5. If the number query is not found in the list cards, return -1."
   ]
  },
  {
   "cell_type": "code",
   "execution_count": 26,
   "metadata": {},
   "outputs": [],
   "source": [
    "def locate_card_linear_search(cards, query):\n",
    "    position = 0\n",
    "    while position < len(cards):\n",
    "        if cards[position] == query:\n",
    "            return position\n",
    "        position += 1\n",
    "    return -1"
   ]
  },
  {
   "cell_type": "code",
   "execution_count": null,
   "metadata": {},
   "outputs": [],
   "source": [
    "evaluate_test_cases(locate_card_linear_search, tests)"
   ]
  },
  {
   "cell_type": "markdown",
   "metadata": {},
   "source": [
    "## Binary search algorithm:\n",
    "1. Find the middle element in the list cards.\n",
    "2. Compare this element with the number query.\n",
    "3. If this element equals the number query, return the position of this element.\n",
    "4. If this element is less than the number query, then we search the first half of the list cards.\n",
    "5. If this element is greater than the number query, then we search the second half of the list cards.\n",
    "6. If no more element remain, return -1."
   ]
  },
  {
   "cell_type": "code",
   "execution_count": null,
   "metadata": {},
   "outputs": [],
   "source": [
    "def locate_card(cards, query):\n",
    "    lo, hi = 0, len(cards) - 1\n",
    "    while lo <= hi:\n",
    "        mid = (lo + hi) // 2\n",
    "        if cards[mid] == query:\n",
    "            return mid\n",
    "        elif cards[mid] < query:\n",
    "            hi = mid - 1\n",
    "        else:\n",
    "            lo = mid + 1\n",
    "    return -1"
   ]
  },
  {
   "cell_type": "code",
   "execution_count": null,
   "metadata": {},
   "outputs": [],
   "source": [
    "evaluate_test_cases(locate_card, tests)"
   ]
  },
  {
   "cell_type": "code",
   "execution_count": 27,
   "metadata": {},
   "outputs": [],
   "source": [
    "def test_location(cards, query, mid):\n",
    "    if cards[mid] == query:\n",
    "        if mid > 0 and cards[mid - 1] == query:\n",
    "            return 'left'\n",
    "        else:\n",
    "            return 'found'\n",
    "    elif cards[mid] < query:\n",
    "        return 'left'\n",
    "    return 'right'\n",
    "\n",
    "def locate_card_binary_search(cards, query):\n",
    "    lo, hi = 0, len(cards) - 1\n",
    "    while lo <= hi:\n",
    "        mid = (lo + hi) // 2\n",
    "        result = test_location(cards, query, mid)\n",
    "        if result == 'found':\n",
    "            return mid\n",
    "        if result == 'left':\n",
    "            hi = mid - 1\n",
    "        else:\n",
    "            lo = mid + 1\n",
    "    return -1"
   ]
  },
  {
   "cell_type": "code",
   "execution_count": null,
   "metadata": {},
   "outputs": [],
   "source": [
    "evaluate_test_cases(locate_card_binary_search, tests)"
   ]
  },
  {
   "cell_type": "code",
   "execution_count": 28,
   "metadata": {},
   "outputs": [],
   "source": [
    "large_test = {'input':{'cards': list(range(10000000, 0, -1)),\n",
    "                       'query': 2},\n",
    "              'output': 9999998}"
   ]
  },
  {
   "cell_type": "code",
   "execution_count": 34,
   "metadata": {},
   "outputs": [
    {
     "name": "stdout",
     "output_type": "stream",
     "text": [
      "result: 9999998, passed: True, runtime: 1291.422\n"
     ]
    }
   ],
   "source": [
    "result, passed, runtime = evaluate_test_case(locate_card_linear_search, large_test, display=False)\n",
    "print(f'result: {result}, passed: {passed}, runtime: {runtime}')"
   ]
  },
  {
   "cell_type": "code",
   "execution_count": 35,
   "metadata": {},
   "outputs": [
    {
     "name": "stdout",
     "output_type": "stream",
     "text": [
      "result: 9999998, passed: True, runtime: 0.051\n"
     ]
    }
   ],
   "source": [
    "result, passed, runtime = evaluate_test_case(locate_card_binary_search, large_test, display=False)\n",
    "print(f'result: {result}, passed: {passed}, runtime: {runtime}')"
   ]
  },
  {
   "cell_type": "code",
   "execution_count": 36,
   "metadata": {},
   "outputs": [],
   "source": [
    "def binary_search(lo, hi, condition):\n",
    "    while lo <= hi:\n",
    "        mid = (lo + hi) // 2\n",
    "        result = condition(mid)\n",
    "        if result == 'found':\n",
    "            return mid\n",
    "        if result == 'left':\n",
    "            hi = mid - 1\n",
    "        else:\n",
    "            lo = mid + 1\n",
    "    return -1\n",
    "\n",
    "def locate_card(cards, query):\n",
    "    def condition(mid):\n",
    "        if cards[mid] == query:\n",
    "            if mid > 0 and cards[mid - 1] == query:\n",
    "                return 'left'\n",
    "            else:\n",
    "                return 'found'\n",
    "        elif cards[mid] < query:\n",
    "            return 'left'\n",
    "        return 'right'\n",
    "    return binary_search(0, len(cards) - 1, condition)"
   ]
  },
  {
   "cell_type": "code",
   "execution_count": 37,
   "metadata": {},
   "outputs": [
    {
     "name": "stdout",
     "output_type": "stream",
     "text": [
      "result: 9999998, passed: True, runtime: 0.018\n"
     ]
    }
   ],
   "source": [
    "result, passed, runtime = evaluate_test_case(locate_card, large_test, display=False)\n",
    "print(f'result: {result}, passed: {passed}, runtime: {runtime}')"
   ]
  },
  {
   "cell_type": "code",
   "execution_count": null,
   "metadata": {},
   "outputs": [],
   "source": [
    "def first_position(cards, query):\n",
    "    def condition(mid):\n",
    "        if cards[mid] == query:\n",
    "            if mid > 0 and cards[mid - 1] == query:\n",
    "                return 'left'\n",
    "            else:\n",
    "                return 'found'\n",
    "        elif cards[mid] > query:\n",
    "            return 'left'\n",
    "        return 'right'\n",
    "    return binary_search(0, len(cards) - 1, condition)\n",
    "\n",
    "def last_position(cards, query):\n",
    "    def condition(mid):\n",
    "        if cards[mid] == query:\n",
    "            if mid < len(cards) - 1 and cards[mid + 1] == query:\n",
    "                return 'right'\n",
    "            else:\n",
    "                return 'found'\n",
    "        elif cards[mid] > query:\n",
    "            return 'left'\n",
    "        return 'right'\n",
    "    return binary_search(0, len(cards) - 1, condition)\n",
    "\n",
    "def first_last_position(cards, query):\n",
    "    return first_position(cards, query), last_position(cards, query)"
   ]
  }
 ],
 "metadata": {
  "kernelspec": {
   "display_name": "Python 3.9.12 ('base')",
   "language": "python",
   "name": "python3"
  },
  "language_info": {
   "codemirror_mode": {
    "name": "ipython",
    "version": 3
   },
   "file_extension": ".py",
   "mimetype": "text/x-python",
   "name": "python",
   "nbconvert_exporter": "python",
   "pygments_lexer": "ipython3",
   "version": "3.9.12"
  },
  "orig_nbformat": 4,
  "vscode": {
   "interpreter": {
    "hash": "32cbc08098cf08c82fbfef63979fb6f38cbc6be1f5cbf8cbd06900055c7ca9c0"
   }
  }
 },
 "nbformat": 4,
 "nbformat_minor": 2
}
